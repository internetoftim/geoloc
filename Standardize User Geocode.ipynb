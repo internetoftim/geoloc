{
 "cells": [
  {
   "cell_type": "code",
   "execution_count": 1,
   "metadata": {
    "collapsed": true
   },
   "outputs": [],
   "source": [
    "import requests\n",
    "import csv\n",
    "import time\n",
    "import random\n",
    "import os\n",
    "import pandas as pd\n",
    "import re"
   ]
  },
  {
   "cell_type": "code",
   "execution_count": 2,
   "metadata": {
    "collapsed": true
   },
   "outputs": [],
   "source": [
    "temp_file = pd.read_csv('bb_csv.csv')\n",
    "temp_file.FLOOR_NO = temp_file.FLOOR_NO.fillna('')\n",
    "temp_file.HOUSE_NAME = temp_file.HOUSE_NAME.fillna('')\n",
    "temp_file.STREET = temp_file.STREET.fillna('')\n",
    "temp_file.BRGY = temp_file.BRGY.fillna('')\n",
    "temp_file.CITY = temp_file.CITY.fillna('')\n",
    "temp_file.AREA = temp_file.AREA.fillna('')\n",
    "temp_file.REGION = temp_file.REGION.fillna('')\n",
    "temp_file.COUNTRY = temp_file.COUNTRY.fillna('')\n",
    "temp_file.ZIP_CODE = temp_file.ZIP_CODE.fillna('')\n",
    "temp_file.MSISDN = temp_file.MSISDN.fillna('')\n",
    "def replace_non_alpha(x):\n",
    "    return re.sub('[^a-zA-Z0-9]',' ',x)\n",
    "temp_file['CITY'] = temp_file['CITY'].apply(replace_non_alpha)\n"
   ]
  },
  {
   "cell_type": "code",
   "execution_count": null,
   "metadata": {},
   "outputs": [
    {
     "name": "stdout",
     "output_type": "stream",
     "text": [
      "7462\n",
      "7464\n",
      "7474\n",
      "7477\n",
      "7478\n",
      "7480\n",
      "7481\n",
      "7482\n",
      "7485\n",
      "7501\n",
      "7505\n",
      "7509\n",
      "7516\n",
      "7517\n",
      "7519\n",
      "7521\n",
      "7523\n",
      "7532\n",
      "7533\n",
      "7536\n",
      "7538\n",
      "7539\n",
      "7542\n",
      "7543\n",
      "7549\n",
      "7552\n",
      "7554\n",
      "7555\n",
      "7558\n",
      "7559\n",
      "7567\n",
      "7568\n",
      "7569\n",
      "7572\n",
      "7575\n",
      "7577\n",
      "7579\n",
      "7580\n",
      "7584\n",
      "7586\n",
      "7588\n",
      "7592\n",
      "7594\n",
      "7595\n",
      "7596\n",
      "7602\n",
      "7603\n",
      "7606\n",
      "7607\n",
      "7609\n",
      "7614\n",
      "7617\n",
      "7619\n",
      "7625\n",
      "7628\n",
      "7629\n",
      "7630\n",
      "7635\n",
      "7637\n",
      "7638\n",
      "7642\n",
      "7643\n",
      "7646\n",
      "7650\n"
     ]
    }
   ],
   "source": [
    "i=0\n",
    "start_index = 9001\n",
    "stop_index = 11000\n",
    "url = 'https://maps.googleapis.com/maps/api/geocode/json'\n",
    "import csv\n",
    "import random\n",
    "fieldnames = ['key','raw_address', 'raw_floor','raw_house',\n",
    "              'raw_street','raw_brgy','raw_city','raw_area',\n",
    "              'raw_region','raw_country','raw_zip',\n",
    "\n",
    "              'lat','long',\n",
    "              'raw_results']\n",
    "\n",
    "with open('subs_set_9001.csv', 'a') as csvfile:\n",
    "    spamwriter = csv.writer(csvfile, delimiter='|', quotechar='\"', quoting=csv.QUOTE_NONE)\n",
    "    #     spamwriter.writerow(fieldnames)\n",
    "    for row in (temp_file.itertuples()):\n",
    "        if(i<start_index): \n",
    "            i+=1\n",
    "            continue\n",
    "        if(i<stop_index):\n",
    "            i+=1\n",
    "            #             if(re.search(row.AREA,row.CITY) is None):\n",
    "\n",
    "            temp_address = (row.FLOOR_NO)  + ' ' + (row.HOUSE_NAME) + ' ' + \\\n",
    "                row.STREET + ' ' + str(row.BRGY) + ' ' + row.CITY + ' ' + row.AREA + ' ' + \\\n",
    "                row.COUNTRY + ' ' + str(row.ZIP_CODE)\n",
    "\n",
    "            params = {'sensor': 'false', 'address': temp_address,'key':''} \n",
    "            r = requests.get(url, params=params)\n",
    "            results = r.json()['results']\n",
    "            time.sleep ((50.0 + random.random()*20)/ 1000.0)\n",
    "            \n",
    "            \n",
    "            if(results is None):\n",
    "                temp_address = (row.FLOOR_NO)  + ' ' + (row.HOUSE_NAME) + ' ' + \\\n",
    "                row.STREET + ' ' + str(row.BRGY) + ' ' + row.CITY + ' ' +\\\n",
    "                row.COUNTRY + ' ' + str(row.ZIP_CODE)        \n",
    "                params = {'sensor': 'false', 'address': temp_address,'key':''} \n",
    "                \n",
    "                r = requests.get(url, params=params)\n",
    "                results = r.json()['results']\n",
    "                time.sleep ((50.0 + random.random()*50)/ 1000.0)\n",
    "                \n",
    "#             print(results)\n",
    "                \n",
    "                \n",
    "            try:\n",
    "                location = results[0]['geometry']['location']\n",
    "                        \n",
    "                spamwriter.writerow([i, temp_address\n",
    "                                  , row.FLOOR_NO, row.HOUSE_NAME, row.STREET\n",
    "                                  , str(row.BRGY), row.CITY, row.AREA, row.REGION \n",
    "                                  , row.COUNTRY, str(row.ZIP_CODE)\n",
    "                                  , str(row.MSISDN),str(location['lat']),str(location['lng'])\n",
    "                                  ,results  \n",
    "                                    ])\n",
    "                print(i)\n",
    "            except:\n",
    "                pass\n",
    "        else:\n",
    "            break\n",
    "\n",
    "\n",
    "        "
   ]
  },
  {
   "cell_type": "code",
   "execution_count": 25,
   "metadata": {},
   "outputs": [
    {
     "data": {
      "text/plain": [
       "False"
      ]
     },
     "execution_count": 25,
     "metadata": {},
     "output_type": "execute_result"
    }
   ],
   "source": [
    "row.FLOOR_NO."
   ]
  }
 ],
 "metadata": {
  "kernelspec": {
   "display_name": "Python 3",
   "language": "python",
   "name": "python3"
  },
  "language_info": {
   "codemirror_mode": {
    "name": "ipython",
    "version": 3
   },
   "file_extension": ".py",
   "mimetype": "text/x-python",
   "name": "python",
   "nbconvert_exporter": "python",
   "pygments_lexer": "ipython3",
   "version": "3.5.2"
  },
  "widgets": {
   "state": {},
   "version": "1.1.2"
  }
 },
 "nbformat": 4,
 "nbformat_minor": 2
}
